{
 "cells": [
  {
   "attachments": {},
   "cell_type": "markdown",
   "metadata": {},
   "source": [
    "# Part 2"
   ]
  },
  {
   "cell_type": "code",
   "execution_count": null,
   "metadata": {},
   "outputs": [],
   "source": [
    "import pandas as pd"
   ]
  },
  {
   "cell_type": "code",
   "execution_count": null,
   "metadata": {},
   "outputs": [
    {
     "data": {
      "text/html": [
       "<div>\n",
       "<style scoped>\n",
       "    .dataframe tbody tr th:only-of-type {\n",
       "        vertical-align: middle;\n",
       "    }\n",
       "\n",
       "    .dataframe tbody tr th {\n",
       "        vertical-align: top;\n",
       "    }\n",
       "\n",
       "    .dataframe thead th {\n",
       "        text-align: right;\n",
       "    }\n",
       "</style>\n",
       "<table border=\"1\" class=\"dataframe\">\n",
       "  <thead>\n",
       "    <tr style=\"text-align: right;\">\n",
       "      <th></th>\n",
       "      <th>endTime</th>\n",
       "      <th>dateTime</th>\n",
       "      <th>time_difference</th>\n",
       "    </tr>\n",
       "  </thead>\n",
       "  <tbody>\n",
       "    <tr>\n",
       "      <th>0</th>\n",
       "      <td>2023-01-03 04:26</td>\n",
       "      <td>2023-01-03 04:26:00</td>\n",
       "      <td>NaT</td>\n",
       "    </tr>\n",
       "    <tr>\n",
       "      <th>1</th>\n",
       "      <td>2023-01-03 17:33</td>\n",
       "      <td>2023-01-03 17:33:00</td>\n",
       "      <td>0 days 13:07:00</td>\n",
       "    </tr>\n",
       "    <tr>\n",
       "      <th>2</th>\n",
       "      <td>2023-01-04 01:00</td>\n",
       "      <td>2023-01-04 01:00:00</td>\n",
       "      <td>0 days 07:27:00</td>\n",
       "    </tr>\n",
       "    <tr>\n",
       "      <th>3</th>\n",
       "      <td>2023-01-04 01:01</td>\n",
       "      <td>2023-01-04 01:01:00</td>\n",
       "      <td>0 days 00:01:00</td>\n",
       "    </tr>\n",
       "    <tr>\n",
       "      <th>4</th>\n",
       "      <td>2023-01-04 01:01</td>\n",
       "      <td>2023-01-04 01:01:00</td>\n",
       "      <td>0 days 00:00:00</td>\n",
       "    </tr>\n",
       "    <tr>\n",
       "      <th>...</th>\n",
       "      <td>...</td>\n",
       "      <td>...</td>\n",
       "      <td>...</td>\n",
       "    </tr>\n",
       "    <tr>\n",
       "      <th>3021</th>\n",
       "      <td>2023-04-20 19:26</td>\n",
       "      <td>2023-04-20 19:26:00</td>\n",
       "      <td>0 days 00:01:00</td>\n",
       "    </tr>\n",
       "    <tr>\n",
       "      <th>3022</th>\n",
       "      <td>2023-04-20 19:30</td>\n",
       "      <td>2023-04-20 19:30:00</td>\n",
       "      <td>0 days 00:04:00</td>\n",
       "    </tr>\n",
       "    <tr>\n",
       "      <th>3023</th>\n",
       "      <td>2023-04-20 19:32</td>\n",
       "      <td>2023-04-20 19:32:00</td>\n",
       "      <td>0 days 00:02:00</td>\n",
       "    </tr>\n",
       "    <tr>\n",
       "      <th>3024</th>\n",
       "      <td>2023-04-20 19:35</td>\n",
       "      <td>2023-04-20 19:35:00</td>\n",
       "      <td>0 days 00:03:00</td>\n",
       "    </tr>\n",
       "    <tr>\n",
       "      <th>3025</th>\n",
       "      <td>2023-04-20 19:38</td>\n",
       "      <td>2023-04-20 19:38:00</td>\n",
       "      <td>0 days 00:03:00</td>\n",
       "    </tr>\n",
       "  </tbody>\n",
       "</table>\n",
       "<p>3026 rows × 3 columns</p>\n",
       "</div>"
      ],
      "text/plain": [
       "               endTime            dateTime time_difference\n",
       "0     2023-01-03 04:26 2023-01-03 04:26:00             NaT\n",
       "1     2023-01-03 17:33 2023-01-03 17:33:00 0 days 13:07:00\n",
       "2     2023-01-04 01:00 2023-01-04 01:00:00 0 days 07:27:00\n",
       "3     2023-01-04 01:01 2023-01-04 01:01:00 0 days 00:01:00\n",
       "4     2023-01-04 01:01 2023-01-04 01:01:00 0 days 00:00:00\n",
       "...                ...                 ...             ...\n",
       "3021  2023-04-20 19:26 2023-04-20 19:26:00 0 days 00:01:00\n",
       "3022  2023-04-20 19:30 2023-04-20 19:30:00 0 days 00:04:00\n",
       "3023  2023-04-20 19:32 2023-04-20 19:32:00 0 days 00:02:00\n",
       "3024  2023-04-20 19:35 2023-04-20 19:35:00 0 days 00:03:00\n",
       "3025  2023-04-20 19:38 2023-04-20 19:38:00 0 days 00:03:00\n",
       "\n",
       "[3026 rows x 3 columns]"
      ]
     },
     "execution_count": 26,
     "metadata": {},
     "output_type": "execute_result"
    }
   ],
   "source": [
    "dFrame = pd.read_csv(\"main.csv\")\n",
    "dFrame[\"dateTime\"] = pd.to_datetime(dFrame[\"endTime\"])\n",
    "dFrame\n",
    "\n",
    "dFrame.sort_values('dateTime', inplace=True)\n",
    "\n",
    "# Calculate time difference between each row\n",
    "dFrame['time_difference'] = dFrame['dateTime'].diff()\n",
    "\n",
    "# Convert time difference to timedelta object\n",
    "dFrame['time_difference'] = pd.to_timedelta(dFrame['time_difference'])\n",
    "\n",
    "dFrame\n"
   ]
  },
  {
   "cell_type": "code",
   "execution_count": null,
   "metadata": {},
   "outputs": [
    {
     "name": "stdout",
     "output_type": "stream",
     "text": [
      "The largest difference in time is 11 days 10:27:00\n",
      "The average difference in time is 0 days 00:51:14.221487603\n"
     ]
    }
   ],
   "source": [
    "# find largest time difference\n",
    "maxValue = dFrame[\"time_difference\"].max()\n",
    "\n",
    "# find the average time differnce\n",
    "avgValue = dFrame[\"time_difference\"].mean()\n",
    "\n",
    "# Print the largest value\n",
    "print(\"The largest difference in time is\", maxValue)\n",
    "\n",
    "# Print the average time difference\n",
    "print(\"The average difference in time is\", avgValue)\n"
   ]
  },
  {
   "cell_type": "code",
   "execution_count": null,
   "metadata": {},
   "outputs": [
    {
     "name": "stdout",
     "output_type": "stream",
     "text": [
      "The most common month is: 1\n",
      "The month of 1 appears 1609 times\n",
      "The most common day is Friday\n"
     ]
    }
   ],
   "source": [
    "# Extracts month from datetime object\n",
    "dFrame['month'] = dFrame['dateTime'].dt.month\n",
    "\n",
    "# Find the month with the highest count\n",
    "month = dFrame['month'].value_counts().idxmax()\n",
    "\n",
    "# Print the most common month\n",
    "print(\"The most common month is:\", month)\n",
    "\n",
    "# Find the ammount of times that month appears in the collumn\n",
    "count = (dFrame[\"month\"] == month).sum()\n",
    "\n",
    "# Print the number of times the month appears\n",
    "print(\"The month of\", month, \"appears\", count, \"times\")"
   ]
  },
  {
   "cell_type": "code",
   "execution_count": null,
   "metadata": {},
   "outputs": [
    {
     "name": "stdout",
     "output_type": "stream",
     "text": [
      "The most common day is Friday\n"
     ]
    }
   ],
   "source": [
    "dFrame['day'] = dFrame['dateTime'].dt.weekday\n",
    "\n",
    "day = dFrame['day'].mode().values[0]\n",
    "\n",
    "# int to day\n",
    "dayNames = ['Monday', 'Tuesday', 'Wednesday', 'Thursday', 'Friday', 'Saturday', 'Sunday']\n",
    "dayName = dayNames[day]\n",
    "\n",
    "print(\"The most common day is\", dayName)"
   ]
  },
  {
   "attachments": {},
   "cell_type": "markdown",
   "metadata": {},
   "source": [
    "6. What do you think the source of this data is? Write a few sentences explaining your reasoning. What other data might help you verify if you are correct?"
   ]
  },
  {
   "attachments": {},
   "cell_type": "markdown",
   "metadata": {},
   "source": [
    "- I believe that my partners data is some sort of music streaming service. This is because the average time between time stamps is very low and must be something that is played on a consistant bassis. \n"
   ]
  },
  {
   "attachments": {},
   "cell_type": "markdown",
   "metadata": {},
   "source": [
    "7. Exchange your analysis with your partner. Read your partner's analysis -- does it seem accurate? Did they guess the correct data source (or type of data source)?"
   ]
  },
  {
   "attachments": {},
   "cell_type": "markdown",
   "metadata": {},
   "source": [
    "- Yes. It seems accurate. They guessed the correct source."
   ]
  },
  {
   "attachments": {},
   "cell_type": "markdown",
   "metadata": {},
   "source": [
    "8. For the days and months that your partner identified as having the most timestamps, try to figure out what was happening on those days. What other data might help you figure this out?"
   ]
  },
  {
   "attachments": {},
   "cell_type": "markdown",
   "metadata": {},
   "source": [
    "- The most timestamps were recorded on Fridays. This is likely due to the fact that they perform more mundane tasks on Fridays that would benifit from having music playing in the background. Winter break reaches into the month of January and it is likely that my partner listened to lots of music over break when there wasn't anything going on. "
   ]
  },
  {
   "attachments": {},
   "cell_type": "markdown",
   "metadata": {},
   "source": [
    "9. What did you learn about yourself and your partner through doing this?"
   ]
  },
  {
   "cell_type": "markdown",
   "metadata": {},
   "source": [
    "I learned that I watch too much youtube. One thing I would like to know, however, is the difference between what has been watched on youtube as opposed to youtube music. Youtube videos are much longer on average compared to music. A day that has a low amount of timestamps might have a higher amount of time watched than a day with a larger amount of timestamps. \n",
    "\n",
    "I also learned that my partner does not have a lot of obligations on Friday and spends a lot of time doing tasks that they do while listening to music."
   ]
  }
 ],
 "metadata": {
  "kernelspec": {
   "display_name": "base",
   "language": "python",
   "name": "python3"
  },
  "language_info": {
   "codemirror_mode": {
    "name": "ipython",
    "version": 3
   },
   "file_extension": ".py",
   "mimetype": "text/x-python",
   "name": "python",
   "nbconvert_exporter": "python",
   "pygments_lexer": "ipython3",
   "version": "3.9.13"
  },
  "orig_nbformat": 4
 },
 "nbformat": 4,
 "nbformat_minor": 2
}
